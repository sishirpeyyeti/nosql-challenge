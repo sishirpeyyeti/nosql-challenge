{
 "cells": [
  {
   "cell_type": "code",
   "execution_count": 1,
   "id": "d8aab364",
   "metadata": {},
   "outputs": [
    {
     "name": "stdout",
     "output_type": "stream",
     "text": [
      "None\n",
      "Number of rows: 0\n",
      "Empty DataFrame\n",
      "Columns: []\n",
      "Index: []\n",
      "None\n",
      "Number of rows: 0\n",
      "Empty DataFrame\n",
      "Columns: []\n",
      "Index: []\n"
     ]
    },
    {
     "ename": "TypeError",
     "evalue": "'NoneType' object is not subscriptable",
     "output_type": "error",
     "traceback": [
      "\u001b[1;31m---------------------------------------------------------------------------\u001b[0m",
      "\u001b[1;31mTypeError\u001b[0m                                 Traceback (most recent call last)",
      "Cell \u001b[1;32mIn[1], line 31\u001b[0m\n\u001b[0;32m     28\u001b[0m \u001b[38;5;28mprint\u001b[39m(london_greater_than_4_df\u001b[38;5;241m.\u001b[39mhead(\u001b[38;5;241m10\u001b[39m))\n\u001b[0;32m     30\u001b[0m \u001b[38;5;66;03m# What are the top 5 establishments with a RatingValue of 5, sorted by lowest hygiene score, nearest to the new restaurant added, \"Penang Flavours\"?\u001b[39;00m\n\u001b[1;32m---> 31\u001b[0m penang_flavours_location \u001b[38;5;241m=\u001b[39m \u001b[43mestablishments\u001b[49m\u001b[38;5;241;43m.\u001b[39;49m\u001b[43mfind_one\u001b[49m\u001b[43m(\u001b[49m\u001b[43m{\u001b[49m\u001b[38;5;124;43m\"\u001b[39;49m\u001b[38;5;124;43mBusinessName\u001b[39;49m\u001b[38;5;124;43m\"\u001b[39;49m\u001b[43m:\u001b[49m\u001b[43m \u001b[49m\u001b[38;5;124;43m\"\u001b[39;49m\u001b[38;5;124;43mPenang Flavours\u001b[39;49m\u001b[38;5;124;43m\"\u001b[39;49m\u001b[43m}\u001b[49m\u001b[43m)\u001b[49m\u001b[43m[\u001b[49m\u001b[38;5;124;43m\"\u001b[39;49m\u001b[38;5;124;43mgeocode\u001b[39;49m\u001b[38;5;124;43m\"\u001b[39;49m\u001b[43m]\u001b[49m\n\u001b[0;32m     32\u001b[0m nearest_establishments \u001b[38;5;241m=\u001b[39m establishments\u001b[38;5;241m.\u001b[39mfind({\u001b[38;5;124m\"\u001b[39m\u001b[38;5;124mRatingValue\u001b[39m\u001b[38;5;124m\"\u001b[39m: \u001b[38;5;241m5\u001b[39m, \u001b[38;5;124m\"\u001b[39m\u001b[38;5;124mgeocode.latitude\u001b[39m\u001b[38;5;124m\"\u001b[39m: {\u001b[38;5;124m\"\u001b[39m\u001b[38;5;124m$gte\u001b[39m\u001b[38;5;124m\"\u001b[39m: penang_flavours_location[\u001b[38;5;124m\"\u001b[39m\u001b[38;5;124mlatitude\u001b[39m\u001b[38;5;124m\"\u001b[39m] \u001b[38;5;241m-\u001b[39m \u001b[38;5;241m0.01\u001b[39m, \u001b[38;5;124m\"\u001b[39m\u001b[38;5;124m$lte\u001b[39m\u001b[38;5;124m\"\u001b[39m: penang_flavours_location[\u001b[38;5;124m\"\u001b[39m\u001b[38;5;124mlatitude\u001b[39m\u001b[38;5;124m\"\u001b[39m] \u001b[38;5;241m+\u001b[39m \u001b[38;5;241m0.01\u001b[39m}, \u001b[38;5;124m\"\u001b[39m\u001b[38;5;124mgeocode.longitude\u001b[39m\u001b[38;5;124m\"\u001b[39m: {\u001b[38;5;124m\"\u001b[39m\u001b[38;5;124m$gte\u001b[39m\u001b[38;5;124m\"\u001b[39m: penang_flavours_location[\u001b[38;5;124m\"\u001b[39m\u001b[38;5;124mlongitude\u001b[39m\u001b[38;5;124m\"\u001b[39m] \u001b[38;5;241m-\u001b[39m \u001b[38;5;241m0.01\u001b[39m, \u001b[38;5;124m\"\u001b[39m\u001b[38;5;124m$lte\u001b[39m\u001b[38;5;124m\"\u001b[39m: penang_flavours_location[\u001b[38;5;124m\"\u001b[39m\u001b[38;5;124mlongitude\u001b[39m\u001b[38;5;124m\"\u001b[39m] \u001b[38;5;241m+\u001b[39m \u001b[38;5;241m0.01\u001b[39m}})\u001b[38;5;241m.\u001b[39msort([(\u001b[38;5;124m\"\u001b[39m\u001b[38;5;124mscores.Hygiene\u001b[39m\u001b[38;5;124m\"\u001b[39m, \u001b[38;5;241m1\u001b[39m)])\u001b[38;5;241m.\u001b[39mlimit(\u001b[38;5;241m5\u001b[39m)\n\u001b[0;32m     33\u001b[0m \u001b[38;5;28;01mfor\u001b[39;00m establishment \u001b[38;5;129;01min\u001b[39;00m nearest_establishments:\n",
      "\u001b[1;31mTypeError\u001b[0m: 'NoneType' object is not subscriptable"
     ]
    }
   ],
   "source": [
    "# Import dependencies\n",
    "from pymongo import MongoClient\n",
    "from pprint import pprint  \n",
    "import pandas as pd\n",
    "\n",
    "# Create an instance of MongoClient\n",
    "client = MongoClient(port=27017)\n",
    "\n",
    "# Assign the uk_food database to a variable name\n",
    "db = client['uk_food']  \n",
    "\n",
    "# Assign the collection to a variable\n",
    "establishments = db['establishments']  \n",
    "\n",
    "\n",
    "# Which establishments have a hygiene score equal to 20?\n",
    "hygiene_20_count = establishments.count_documents({\"scores.Hygiene\": 20})\n",
    "pprint(establishments.find_one({\"scores.Hygiene\": 20}))\n",
    "hygiene_20_df = pd.DataFrame(list(establishments.find({\"scores.Hygiene\": 20})))\n",
    "print(\"Number of rows:\", len(hygiene_20_df))\n",
    "print(hygiene_20_df.head(10))\n",
    "\n",
    "# Which establishments in London have a RatingValue greater than or equal to 4?\n",
    "london_greater_than_4_count = establishments.count_documents({\"LocalAuthorityName\": {\"$regex\": \"London\", \"$options\": \"i\"}, \"RatingValue\": {\"$gte\": 4}})\n",
    "pprint(establishments.find_one({\"LocalAuthorityName\": {\"$regex\": \"London\", \"$options\": \"i\"}, \"RatingValue\": {\"$gte\": 4}}))\n",
    "london_greater_than_4_df = pd.DataFrame(list(establishments.find({\"LocalAuthorityName\": {\"$regex\": \"London\", \"$options\": \"i\"}, \"RatingValue\": {\"$gte\": 4}})))\n",
    "print(\"Number of rows:\", len(london_greater_than_4_df))\n",
    "print(london_greater_than_4_df.head(10))\n",
    "\n",
    "# What are the top 5 establishments with a RatingValue of 5, sorted by lowest hygiene score, nearest to the new restaurant added, \"Penang Flavours\"?\n",
    "penang_flavours_location = establishments.find_one({\"BusinessName\": \"Penang Flavours\"})[\"geocode\"]\n",
    "nearest_establishments = establishments.find({\"RatingValue\": 5, \"geocode.latitude\": {\"$gte\": penang_flavours_location[\"latitude\"] - 0.01, \"$lte\": penang_flavours_location[\"latitude\"] + 0.01}, \"geocode.longitude\": {\"$gte\": penang_flavours_location[\"longitude\"] - 0.01, \"$lte\": penang_flavours_location[\"longitude\"] + 0.01}}).sort([(\"scores.Hygiene\", 1)]).limit(5)\n",
    "for establishment in nearest_establishments:\n",
    "    pprint(establishment)\n",
    "nearest_establishments_df = pd.DataFrame(list(nearest_establishments))\n",
    "print(\"Number of rows:\", len(nearest_establishments_df))\n",
    "print(nearest_establishments_df)\n",
    "\n",
    "# How many establishments in each Local Authority area have a hygiene score of 0? Sort the results from highest to lowest, and print out the top ten local authority areas.\n",
    "zero_hygiene_count_by_local_authority = establishments.aggregate([\n",
    "    {\"$match\": {\"scores.Hygiene\": 0}},\n",
    "    {\"$group\": {\"_id\": \"$LocalAuthorityName\", \"count\": {\"$sum\": 1}}},\n",
    "    {\"$sort\": {\"count\": -1}},\n",
    "    {\"$limit\": 10}\n",
    "])\n",
    "for item in zero_hygiene_count_by_local_authority:\n",
    "    pprint(item)\n",
    "\n"
   ]
  }
 ],
 "metadata": {
  "kernelspec": {
   "display_name": "Python 3 (ipykernel)",
   "language": "python",
   "name": "python3"
  },
  "language_info": {
   "codemirror_mode": {
    "name": "ipython",
    "version": 3
   },
   "file_extension": ".py",
   "mimetype": "text/x-python",
   "name": "python",
   "nbconvert_exporter": "python",
   "pygments_lexer": "ipython3",
   "version": "3.10.13"
  }
 },
 "nbformat": 4,
 "nbformat_minor": 5
}
